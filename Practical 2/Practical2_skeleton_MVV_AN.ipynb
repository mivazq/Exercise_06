{
  "nbformat": 4,
  "nbformat_minor": 0,
  "metadata": {
    "kernelspec": {
      "display_name": "Python 3",
      "language": "python",
      "name": "python3"
    },
    "language_info": {
      "codemirror_mode": {
        "name": "ipython",
        "version": 3
      },
      "file_extension": ".py",
      "mimetype": "text/x-python",
      "name": "python",
      "nbconvert_exporter": "python",
      "pygments_lexer": "ipython3",
      "version": "3.8.3"
    },
    "colab": {
      "name": "Practical2_skeleton_MVV_AN.ipynb",
      "provenance": [],
      "collapsed_sections": [],
      "include_colab_link": true
    }
  },
  "cells": [
    {
      "cell_type": "markdown",
      "metadata": {
        "id": "view-in-github",
        "colab_type": "text"
      },
      "source": [
        "<a href=\"https://colab.research.google.com/github/mivazq/Exercise_06/blob/master/Practical%202/Practical2_skeleton_MVV_AN.ipynb\" target=\"_parent\"><img src=\"https://colab.research.google.com/assets/colab-badge.svg\" alt=\"Open In Colab\"/></a>"
      ]
    },
    {
      "cell_type": "markdown",
      "metadata": {
        "id": "BNP4diiNJJHg"
      },
      "source": [
        "# Practical 2 : Generative and Discriminative Models\n"
      ]
    },
    {
      "cell_type": "markdown",
      "metadata": {
        "id": "6CrDG0C5JJHw"
      },
      "source": [
        "In this practical, we will compare the Naïve Bayes Classifier (NBC) and Logistic Regression on several\n",
        "datasets. As part of the practical you should read briefly the following paper:\n",
        "\n"
      ]
    },
    {
      "cell_type": "markdown",
      "metadata": {
        "id": "4gYU8JxlJJHz"
      },
      "source": [
        "**On Discriminative vs. Generative classifiers: A comparison of logistic regression\n",
        "and naive Bayes**  \n",
        "*Andrew Y. Ng and Michael I. Jordan*  \n",
        "Advances in Neural Information Processing Systems (NIPS) 2001.\n",
        "\n",
        "The paper is available on OLAT. "
      ]
    },
    {
      "cell_type": "markdown",
      "metadata": {
        "id": "R5YDs6YhJJH1"
      },
      "source": [
        "You should read the Introduction and the Experiments sections. The goal of this practical is\n",
        "to qualitatively reproduce some of the experimental results in this paper. You are strongly\n",
        "encouraged to read the rest of the paper, which is rather short and straightforward to read,\n",
        "though some of you may want to skip the formal proofs."
      ]
    },
    {
      "cell_type": "markdown",
      "metadata": {
        "id": "bTEqcNv7JJH2"
      },
      "source": [
        "## Naïve Bayes Classifier (NBC)"
      ]
    },
    {
      "cell_type": "markdown",
      "metadata": {
        "id": "vaf2SZQOJJH3"
      },
      "source": [
        "You should implement a Naïve Bayes Classifier from scartch using NumPy. To keep your code tidy,\n",
        "we recommend implementing it as a class. \n",
        "The classifier should be able to handle binary and continuous features. \n",
        "To earn the bonus points, the classifier should be able to handle categorical features as well. \n",
        "Suppose the data has 3\n",
        "different features, the first being binary, the second being continuous and the third being categorical. Write an implementation that you can initialise as follows:\n",
        "\n",
        "    nbc = NBC(feature_types=['b', 'r', 'c']) # in our case it might be smth like: nbc = NBC(feature_types=['b', 'r', 'c', 'r', 'c', 'b', 'c'])"
      ]
    },
    {
      "cell_type": "markdown",
      "metadata": {
        "id": "bZH-4fHZJJH4"
      },
      "source": [
        "Along the lines of classifiers provided in sklearn, you want to implement two more functions,\n",
        "**fit** and **predict**. \n",
        "Recall the joint distribution of a generative model: $p(\\mathbf{x}, y \\mid \\theta, \\pi) = p(y \\mid \\pi) \\cdot p(\\mathbf{x} \\mid y, \\theta)$.\n",
        "The **fit** function is to estimate all the parameters ($\\theta$ and $\\pi$) of the NBC, i.e., train the classifier. The **predict** function is to compute the probabilities that the new input belongs to all classes and\n",
        "then return the class that has the largest probability, i.e., make the prediction.\n",
        "\n",
        "    nbc.fit(X_train, y_train)\n",
        "    ypredicted = nbc.predict(X_test)\n",
        "    test_accuracy = np.mean(ypredicted == ytest)"
      ]
    },
    {
      "cell_type": "markdown",
      "metadata": {
        "id": "3dQnq81hJJH6"
      },
      "source": [
        "Here we import the libraries. "
      ]
    },
    {
      "cell_type": "code",
      "metadata": {
        "id": "Ubm_grUqJJH7"
      },
      "source": [
        "%matplotlib inline\n",
        "import pylab\n",
        "pylab.rcParams['figure.figsize'] = (10., 10.)\n",
        "\n",
        "import pickle as cp\n",
        "import matplotlib.pyplot as plt\n",
        "import numpy as np\n",
        "import pandas as pd\n",
        "\n",
        "from scipy import stats\n",
        "from scipy.optimize import minimize\n",
        "from sklearn.datasets import load_iris\n",
        "from sklearn.naive_bayes import GaussianNB\n",
        "from sklearn.naive_bayes import BernoulliNB\n",
        "from sklearn.naive_bayes import CategoricalNB"
      ],
      "execution_count": null,
      "outputs": []
    },
    {
      "cell_type": "markdown",
      "metadata": {
        "id": "8CkoiCyoJJH_"
      },
      "source": [
        "### Class-conditional distributions\n",
        "\n",
        "Before implementing NBC, we first implement the class-conditional distributions $p(\\mathbf{x} \\mid y, \\theta)$. Your implementation should have two functions: **estimate** and **get_log_probability**. \n",
        "\n",
        "- The **estimate** function takes data as input and models the data using some distribution $p(x \\mid \\theta)$, where $\\theta$ is the parameters of this distribution. The function estimates the parameters $\\theta$ using maximum likelihood estimators (MLE). \n",
        "For example, in the case of continuous features, we use the Gaussian distribution to model the data. The estimate function will find the parameters $\\mu$ and $\\sigma$ for the Gaussian distribution with respect to the input data. \n",
        "\n",
        "- The **get_log_probability** function takes as input a new data point $x_{new}$ and returns the log of $p(x_{new} \\mid \\theta)$. For the Gaussian distribution, the function get_probability will return $\\mathcal{N}(x_{new} \\mid \\mu, \\sigma)$. "
      ]
    },
    {
      "cell_type": "markdown",
      "metadata": {
        "id": "vnX8wowWJJIB"
      },
      "source": [
        "For different types of features, you need to use different distributions.\n",
        "You can import statistic libraries (e.g., `scipy.stats`) for the implementation of the distributions. \n",
        "\n",
        "- For **continuous features**: Use Gaussian distribution\n",
        "    https://docs.scipy.org/doc/scipy/reference/generated/scipy.stats.norm.html\n",
        "- For **binary features**: Use Bernoulli distribution \n",
        "    https://docs.scipy.org/doc/scipy/reference/generated/scipy.stats.bernoulli.html\n",
        "- For **categorical features**: Use Multinoulli distribution (The multinoulli distribution is a special case of the multinomial distribution, where the number of trials is 1)\n",
        "    https://docs.scipy.org/doc/scipy/reference/generated/scipy.stats.multinomial.html # (n=1 in the multinomial package to get multinoulli, use logpmx)\n",
        "\n"
      ]
    },
    {
      "cell_type": "markdown",
      "metadata": {
        "id": "bh8TvlrnJJIC"
      },
      "source": [
        "**Implementation Issues:**\n",
        "- The probabilities can be very small. To avoid underflow issues, you should compute the log of the probabilities. Read more: (Mur) Chapter 3.5.3 / Lecture Notes\n",
        "- The variance for Gaussian distributions should never be exactly 0, so in\n",
        "case your calculated variance is 0, you may want to set it to a small value such as 1e − 6. This is to ensure that your code never encounters division by zero or\n",
        "taking logarithms of 0 errors. \n",
        "For this practical, please set the small value to 1e-6.\n",
        "- Laplace/Additive smoothing: You want to ensure that the estimates for the parameter for the Bernoulli and Multinoulli random variables is never exactly 0 or 1. For this reason you should consider using Laplace smoothing (https://en.wikipedia.org/wiki/Additive_smoothing).\n",
        "For this practical, please set alpha to 1.\n",
        "- We will check the correctness of your implementation using the tests below.\n",
        "- For simplicity, you can assume the data values for binary features are integers from {0,1} and the data for a categorical feature with M categories are integers from {0, ..., M-1}.\n",
        "- Fell free to add auxiliary functions or change the parameters of the functions. If you change the parameters of the functions, make sure you change the tests accordingly, so we can test your code.\n"
      ]
    },
    {
      "cell_type": "code",
      "metadata": {
        "id": "bD21uHr_JJID"
      },
      "source": [
        "ALPHA = 1.0 # for additive smoothing\n",
        "\n",
        "# Distribution for continuous features\n",
        "class ContFeatureParam:\n",
        "    def estimate(self, X):\n",
        "        # TODO: Estimate the parameters for the Gaussian distribution \n",
        "        # so that it best describes the input data X\n",
        "        # The code below is just for compilation. \n",
        "        # You need to replace it by your own code.\n",
        "        ###################################################\n",
        "        ##### YOUR CODE STARTS HERE #######################\n",
        "        ###################################################\n",
        "        # Note: We have shown in the lecture that the Maximum Likelihood Estimator \n",
        "        # for the mean and variance of an unknown Gaussian distribution from \n",
        "        # which we sample some values simply are the sample mean and variances.\n",
        "        # As such, we compute mean and variance of X by simply taking their \n",
        "        # sample means and variances.\n",
        "        self.mean  = np.mean(X)\n",
        "        self.var   = np.var(X)\n",
        "        if self.var < 0.000001:\n",
        "            self.var = 0.000001\n",
        "        self.theta = [self.mean, self.var]\n",
        "        ###################################################\n",
        "        ##### YOUR CODE ENDS HERE #########################\n",
        "        ###################################################\n",
        "\n",
        "    def get_log_probability(self, X_new):\n",
        "        # TODO: return the log of the density values for the input values X_new\n",
        "        # The code below is just for compilation. \n",
        "        # You need to replace it by your own code.\n",
        "        ###################################################\n",
        "        ##### YOUR CODE STARTS HERE #######################\n",
        "        ###################################################\n",
        "        return stats.norm.logpdf(X_new, loc=self.theta[0], scale=np.sqrt(self.theta[1]))\n",
        "        ###################################################\n",
        "        ##### YOUR CODE ENDS HERE #########################\n",
        "        ###################################################\n",
        "\n",
        "\n",
        "# Distribution for binary features\n",
        "class BinFeatureParam:\n",
        "    def estimate(self, X):\n",
        "        # TODO: Estimate the parameters for the Bernoulli distribution \n",
        "        # so that it best describes the input data X\n",
        "        # The code below is just for compilation. \n",
        "        # You need to replace it by your own code.\n",
        "        ###################################################\n",
        "        ##### YOUR CODE STARTS HERE #######################\n",
        "        ###################################################\n",
        "        # Perform Laplace smoothing by adding one (ALPHA=1) observation for each category at the beginning\n",
        "        for val in range(0,2): # values in Bernoulli are just {0,1}, by assumption\n",
        "            X = np.insert(X, 0, val)\n",
        "        # Compute probabilities\n",
        "        a, cnts = np.unique(X, return_counts=True)\n",
        "        p = cnts/sum(cnts)\n",
        "        self.theta = p[1]\n",
        "        ###################################################\n",
        "        ##### YOUR CODE ENDS HERE #########################\n",
        "        ###################################################\n",
        "\n",
        "    def get_log_probability(self, X_new):\n",
        "        # TODO: return the log of the probability values for the input values X_new\n",
        "        # The code below is just for compilation. \n",
        "        # You need to replace it by your own code.\n",
        "        ###################################################\n",
        "        ##### YOUR CODE STARTS HERE #######################\n",
        "        ###################################################\n",
        "        return stats.bernoulli.logpmf(X_new, self.theta)\n",
        "        ###################################################\n",
        "        ##### YOUR CODE ENDS HERE #########################\n",
        "        ###################################################\n",
        "\n",
        "\n",
        "# Distribution for categorical features\n",
        "class CatFeatureParam:\n",
        "    \n",
        "    # we need to know the number of categories for the categorical feature\n",
        "    def __init__(self, num_of_categories):\n",
        "        self.M = num_of_categories\n",
        "    \n",
        "    def estimate(self, X):\n",
        "        # TODO: Estimate the parameters for the Multinoulli distribution \n",
        "        # so that it best describes the input data X\n",
        "        # The code below is just for compilation. \n",
        "        # You need to replace it by your own code.\n",
        "        ###################################################\n",
        "        ##### YOUR CODE STARTS HERE #######################\n",
        "        ###################################################\n",
        "        # Perform Laplace smoothing by adding one (ALPHA=1) observation for each category at the beginning\n",
        "        for val in range(0,self.M): # values in Multinoulli are just {0,...,M}, by assumption\n",
        "            X = np.insert(X, 0, val)\n",
        "        a, cnts = np.unique(X, return_counts=True)\n",
        "        p = cnts/sum(cnts)\n",
        "        self.theta = p\n",
        "        ###################################################\n",
        "        ##### YOUR CODE ENDS HERE #########################\n",
        "        ###################################################\n",
        "        \n",
        "    def get_log_probability(self, X_new):\n",
        "        # TODO: return the log of the probability values for the input values X_new\n",
        "        # The code below is just for compilation. \n",
        "        # You need to replace it by your own code.\n",
        "        ###################################################\n",
        "        ##### YOUR CODE STARTS HERE #######################\n",
        "        ###################################################\n",
        "        #return np.log(param.theta)\n",
        "        return stats.multinomial.logpmf(X_new, 1, self.theta)\n",
        "        ###################################################\n",
        "        ##### YOUR CODE ENDS HERE #########################\n",
        "        ###################################################"
      ],
      "execution_count": null,
      "outputs": []
    },
    {
      "cell_type": "markdown",
      "metadata": {
        "id": "uh0Ao8T7JJIH"
      },
      "source": [
        "**Tests:**\n",
        "    \n",
        "We will use the code below to test the correctness of your code."
      ]
    },
    {
      "cell_type": "code",
      "metadata": {
        "id": "bmVgdcLFJJII",
        "colab": {
          "base_uri": "https://localhost:8080/"
        },
        "outputId": "d336637c-9588-49d9-a94f-51df89cb415c"
      },
      "source": [
        "# continuous features\n",
        "\n",
        "X = np.array([2.70508547,2.10499698,1.76019132,3.42016431,3.47037973,3.67435061,1.84749286,4.3388506,2.27818252,4.65165335])\n",
        "\n",
        "param = ContFeatureParam()\n",
        "param.estimate(X)\n",
        "probs = param.get_log_probability(np.array([0,1,2,3]))\n",
        "print(probs)"
      ],
      "execution_count": null,
      "outputs": [
        {
          "output_type": "stream",
          "name": "stdout",
          "text": [
            "[-5.64670664 -3.02757918 -1.44567455 -0.90099277]\n"
          ]
        }
      ]
    },
    {
      "cell_type": "code",
      "metadata": {
        "id": "bOTCEh_0JJIK",
        "colab": {
          "base_uri": "https://localhost:8080/"
        },
        "outputId": "c7672b89-e2cd-4888-f106-96e94743efce"
      },
      "source": [
        "# binary features\n",
        "\n",
        "X = np.array([0,0,1,1,0,1,0,1,1,1])\n",
        "\n",
        "param = BinFeatureParam()\n",
        "param.estimate(X)\n",
        "probs = param.get_log_probability(np.array([0,1]))\n",
        "print(probs)"
      ],
      "execution_count": null,
      "outputs": [
        {
          "output_type": "stream",
          "name": "stdout",
          "text": [
            "[-0.87546874 -0.5389965 ]\n"
          ]
        }
      ]
    },
    {
      "cell_type": "code",
      "metadata": {
        "id": "jVVtozmBJJIK",
        "colab": {
          "base_uri": "https://localhost:8080/"
        },
        "outputId": "a7d2c2b9-64ef-4a7b-eba8-8e35bc51b80d"
      },
      "source": [
        "# categorical features (bonus task)\n",
        "\n",
        "X = np.array([0,6,5,4,0,6,6,4,1,1,2,3,8,8,1,6,4,9,0,2,2,3,8,0,2])\n",
        "\n",
        "param = CatFeatureParam(num_of_categories=10)\n",
        "param.estimate(X)\n",
        "probs = param.get_log_probability(np.array([0,1,2,3,4,5,6,7,8,9]))\n",
        "print(probs)\n",
        "print(np.log(param.theta)) # should print this instead of -inf"
      ],
      "execution_count": null,
      "outputs": [
        {
          "output_type": "stream",
          "name": "stdout",
          "text": [
            "-inf\n",
            "[-1.94591015 -2.1690537  -1.94591015 -2.45673577 -2.1690537  -2.86220088\n",
            " -1.94591015 -3.55534806 -2.1690537  -2.86220088]\n"
          ]
        }
      ]
    },
    {
      "cell_type": "markdown",
      "metadata": {
        "id": "V9msPzjLJJIL"
      },
      "source": [
        "### Implement NBC\n",
        "\n",
        "We are now ready to implement NBC. We follow the structure of models in scikit-learn. We implement NBC as a class with functions **init**, **fit** and **predict**.\n",
        "The **init** function takes as input the types of features and initialise the classifier. The **fit** function takes the training data as input and estimates the parameters. The **predict** function predicts the label for the input data. "
      ]
    },
    {
      "cell_type": "markdown",
      "metadata": {
        "id": "MR-Jgd8_JJIM"
      },
      "source": [
        "**Implementation Issues:**\n",
        "- You should use matrix operations rather than loops. In general, loops over classes or features are OK, but loops over the rows of data are not a good idea.\n",
        "- The probabilities can be very small. To avoid underflow issues, you should do the calculations in log space. Read more: (Mur) Chapter 3.5.3 / Lecture Note\n",
        "- For simplicity, you can assume the data values for binary features are integers from {0, 1} and the data for a categorical feature with M categories are integers from {0, ..., M-1}.\n",
        "- Fell free to add auxiliary functions or change the parameters of the functions. If you change the parameters of the functions, make sure you change the tests accordingly, so we can test your code."
      ]
    },
    {
      "cell_type": "code",
      "metadata": {
        "id": "v2Wh9NTVJJIM"
      },
      "source": [
        "ALPHA = 1.0 # for additive smoothing\n",
        "\n",
        "# Your task is to implement the three functions of NBC. \n",
        "\n",
        "class NBC:\n",
        "    # Inputs:\n",
        "    #   feature_types: the array of the types of the features, e.g., feature_types=['b', 'r', 'c']\n",
        "    def __init__(self, feature_types=[]):\n",
        "        # TODO: \n",
        "        # The code below is just for compilation. \n",
        "        # You need to replace it by your own code.\n",
        "        ###################################################\n",
        "        ##### YOUR CODE STARTS HERE #######################\n",
        "        ###################################################\n",
        "        self.ft = feature_types\n",
        "        ###################################################\n",
        "        ##### YOUR CODE ENDS HERE #########################\n",
        "        ###################################################\n",
        "\n",
        "        \n",
        "    # The function uses the input data to estimate all the parameters of the NBC\n",
        "    def fit(self, X, y):\n",
        "        # TODO: \n",
        "        # The code below is just for compilation. \n",
        "        # You need to replace it by your own code.\n",
        "        ###################################################\n",
        "        ##### YOUR CODE STARTS HERE #######################\n",
        "        ###################################################\n",
        "        if self.ft[d] == 'r':\n",
        "            self.clf = GaussianNB(var_smoothing=1e-06)\n",
        "            self.clf.fit(X,y)\n",
        "            self.log_probs = np.insert(log_probs, len(log_probs), np.log(self.clf.class_prior_))\n",
        "        if self.ft[d] == 'b':\n",
        "            self.clf = BernoulliNB(alpha=ALPHA)\n",
        "            self.clf.fit(X[d],y)\n",
        "            self.log_probs = np.insert(log_probs, len(log_probs), self.clf.class_log_prior_)\n",
        "        if self.ft[d] == 'c':\n",
        "            self.clf = CategoricalNB(alpha=ALPHA)\n",
        "            self.clf.fit(X[d],y)\n",
        "            self.log_probs = np.insert(log_probs, len(log_probs), self.clf.class_log_prior_)\n",
        "        ###################################################\n",
        "        ##### YOUR CODE ENDS HERE #########################\n",
        "        ###################################################\n",
        "                \n",
        "                \n",
        "    # The function takes the data X as input, and predicts the class for the data\n",
        "    def predict(self, X):\n",
        "        # TODO: \n",
        "        # The code below is just for compilation. \n",
        "        # You need to replace it by your own code.\n",
        "        ###################################################\n",
        "        ##### YOUR CODE STARTS HERE #######################\n",
        "        ###################################################\n",
        "        for d in range(0, X.shape[1]):\n",
        "        return self.log_probs\n",
        "        ###################################################\n",
        "        ##### YOUR CODE ENDS HERE #########################\n",
        "        ###################################################\n"
      ],
      "execution_count": 26,
      "outputs": []
    },
    {
      "cell_type": "markdown",
      "metadata": {
        "id": "uma9lL60JJIO"
      },
      "source": [
        "**Tests**\n",
        "\n",
        "We will use the code below to check your code."
      ]
    },
    {
      "cell_type": "code",
      "metadata": {
        "colab": {
          "base_uri": "https://localhost:8080/",
          "height": 304
        },
        "id": "XPdFIFprh9dz",
        "outputId": "4dca93fe-5adc-4f5c-a778-a012ff597f3b"
      },
      "source": [
        "X = np.array([[0],\n",
        "              [1],\n",
        "              [1],\n",
        "              [0],\n",
        "              [1]])\n",
        "y = np.array([1,0,1,1,0])\n",
        "print(X.shape)\n",
        "print(y.shape)\n",
        "\n",
        "clf = CategoricalNB(alpha=0)\n",
        "clf.fit(X,y)\n",
        "print(clf.feature_log_prob_[0,1])\n",
        "print(np.exp(clf.class_log_prior_)[0])\n",
        "\n",
        "\n",
        "\n",
        "t1 = np.exp(clf.feature_log_prob_[0,1]+clf.class_log_prior_[0])\n",
        "t2 = np.exp(clf.feature_log_prob_[1,1]+clf.class_log_prior_[1])\n",
        "sum = np.log(t1+t2)\n",
        "\n",
        "p_y_0 = clf.feature_log_prob_[0,0,1]+clf.class_log_prior_[0]-sum\n",
        "p_y_1 = clf.feature_log_prob_[0,1,1]+clf.class_log_prior_[1]-sum\n",
        "\n",
        "print(p_y_0)\n",
        "\n",
        "\n",
        "\n",
        "\n",
        "\n",
        "\n"
      ],
      "execution_count": 75,
      "outputs": [
        {
          "output_type": "stream",
          "name": "stdout",
          "text": [
            "(5, 1)\n",
            "(5,)\n"
          ]
        },
        {
          "output_type": "stream",
          "name": "stderr",
          "text": [
            "/usr/local/lib/python3.7/dist-packages/sklearn/naive_bayes.py:557: UserWarning: alpha too small will result in numeric errors, setting alpha = 1.0e-10\n",
            "  % _ALPHA_MIN\n"
          ]
        },
        {
          "output_type": "error",
          "ename": "TypeError",
          "evalue": "ignored",
          "traceback": [
            "\u001b[0;31m---------------------------------------------------------------------------\u001b[0m",
            "\u001b[0;31mTypeError\u001b[0m                                 Traceback (most recent call last)",
            "\u001b[0;32m<ipython-input-75-71f394af86cc>\u001b[0m in \u001b[0;36m<module>\u001b[0;34m()\u001b[0m\n\u001b[1;32m     10\u001b[0m \u001b[0mclf\u001b[0m \u001b[0;34m=\u001b[0m \u001b[0mCategoricalNB\u001b[0m\u001b[0;34m(\u001b[0m\u001b[0malpha\u001b[0m\u001b[0;34m=\u001b[0m\u001b[0;36m0\u001b[0m\u001b[0;34m)\u001b[0m\u001b[0;34m\u001b[0m\u001b[0;34m\u001b[0m\u001b[0m\n\u001b[1;32m     11\u001b[0m \u001b[0mclf\u001b[0m\u001b[0;34m.\u001b[0m\u001b[0mfit\u001b[0m\u001b[0;34m(\u001b[0m\u001b[0mX\u001b[0m\u001b[0;34m,\u001b[0m\u001b[0my\u001b[0m\u001b[0;34m)\u001b[0m\u001b[0;34m\u001b[0m\u001b[0;34m\u001b[0m\u001b[0m\n\u001b[0;32m---> 12\u001b[0;31m \u001b[0mprint\u001b[0m\u001b[0;34m(\u001b[0m\u001b[0mclf\u001b[0m\u001b[0;34m.\u001b[0m\u001b[0mfeature_log_prob_\u001b[0m\u001b[0;34m[\u001b[0m\u001b[0;36m0\u001b[0m\u001b[0;34m,\u001b[0m\u001b[0;36m1\u001b[0m\u001b[0;34m]\u001b[0m\u001b[0;34m)\u001b[0m\u001b[0;34m\u001b[0m\u001b[0;34m\u001b[0m\u001b[0m\n\u001b[0m\u001b[1;32m     13\u001b[0m \u001b[0mprint\u001b[0m\u001b[0;34m(\u001b[0m\u001b[0mnp\u001b[0m\u001b[0;34m.\u001b[0m\u001b[0mexp\u001b[0m\u001b[0;34m(\u001b[0m\u001b[0mclf\u001b[0m\u001b[0;34m.\u001b[0m\u001b[0mclass_log_prior_\u001b[0m\u001b[0;34m)\u001b[0m\u001b[0;34m[\u001b[0m\u001b[0;36m0\u001b[0m\u001b[0;34m]\u001b[0m\u001b[0;34m)\u001b[0m\u001b[0;34m\u001b[0m\u001b[0;34m\u001b[0m\u001b[0m\n\u001b[1;32m     14\u001b[0m \u001b[0;34m\u001b[0m\u001b[0m\n",
            "\u001b[0;31mTypeError\u001b[0m: list indices must be integers or slices, not tuple"
          ]
        }
      ]
    },
    {
      "cell_type": "code",
      "metadata": {
        "id": "7EWXXAvOJJIQ",
        "colab": {
          "base_uri": "https://localhost:8080/",
          "height": 432
        },
        "outputId": "b18f0311-26f1-44e8-e2e4-7ae61f27b2e3"
      },
      "source": [
        "# All features of the iris dataset are continuous.\n",
        "iris = load_iris()\n",
        "X, y = iris['data'], iris['target']\n",
        "\n",
        "N, D = X.shape\n",
        "Ntrain = int(0.8 * N)\n",
        "Xtrain = X[:Ntrain]\n",
        "ytrain = y[:Ntrain]\n",
        "Xtest = X[Ntrain:]\n",
        "ytest = y[Ntrain:]\n",
        "\n",
        "\n",
        "nbc_iris = NBC(feature_types=['r', 'r', 'r', 'r'])\n",
        "nbc_iris.fit(Xtrain, ytrain)\n",
        "yhat = nbc_iris.predict(Xtest)\n",
        "test_accuracy = np.mean(yhat == ytest)\n",
        "\n",
        "print(\"Accuracy:\", test_accuracy) # should be larger than 90%\n",
        "print(yhat)"
      ],
      "execution_count": 27,
      "outputs": [
        {
          "output_type": "error",
          "ename": "ValueError",
          "evalue": "ignored",
          "traceback": [
            "\u001b[0;31m---------------------------------------------------------------------------\u001b[0m",
            "\u001b[0;31mValueError\u001b[0m                                Traceback (most recent call last)",
            "\u001b[0;32m<ipython-input-27-260d32a6b64a>\u001b[0m in \u001b[0;36m<module>\u001b[0;34m()\u001b[0m\n\u001b[1;32m     12\u001b[0m \u001b[0;34m\u001b[0m\u001b[0m\n\u001b[1;32m     13\u001b[0m \u001b[0mnbc_iris\u001b[0m \u001b[0;34m=\u001b[0m \u001b[0mNBC\u001b[0m\u001b[0;34m(\u001b[0m\u001b[0mfeature_types\u001b[0m\u001b[0;34m=\u001b[0m\u001b[0;34m[\u001b[0m\u001b[0;34m'r'\u001b[0m\u001b[0;34m,\u001b[0m \u001b[0;34m'r'\u001b[0m\u001b[0;34m,\u001b[0m \u001b[0;34m'r'\u001b[0m\u001b[0;34m,\u001b[0m \u001b[0;34m'r'\u001b[0m\u001b[0;34m]\u001b[0m\u001b[0;34m)\u001b[0m\u001b[0;34m\u001b[0m\u001b[0;34m\u001b[0m\u001b[0m\n\u001b[0;32m---> 14\u001b[0;31m \u001b[0mnbc_iris\u001b[0m\u001b[0;34m.\u001b[0m\u001b[0mfit\u001b[0m\u001b[0;34m(\u001b[0m\u001b[0mXtrain\u001b[0m\u001b[0;34m,\u001b[0m \u001b[0mytrain\u001b[0m\u001b[0;34m)\u001b[0m\u001b[0;34m\u001b[0m\u001b[0;34m\u001b[0m\u001b[0m\n\u001b[0m\u001b[1;32m     15\u001b[0m \u001b[0myhat\u001b[0m \u001b[0;34m=\u001b[0m \u001b[0mnbc_iris\u001b[0m\u001b[0;34m.\u001b[0m\u001b[0mpredict\u001b[0m\u001b[0;34m(\u001b[0m\u001b[0mXtest\u001b[0m\u001b[0;34m)\u001b[0m\u001b[0;34m\u001b[0m\u001b[0;34m\u001b[0m\u001b[0m\n\u001b[1;32m     16\u001b[0m \u001b[0mtest_accuracy\u001b[0m \u001b[0;34m=\u001b[0m \u001b[0mnp\u001b[0m\u001b[0;34m.\u001b[0m\u001b[0mmean\u001b[0m\u001b[0;34m(\u001b[0m\u001b[0myhat\u001b[0m \u001b[0;34m==\u001b[0m \u001b[0mytest\u001b[0m\u001b[0;34m)\u001b[0m\u001b[0;34m\u001b[0m\u001b[0;34m\u001b[0m\u001b[0m\n",
            "\u001b[0;32m<ipython-input-26-1ac6aa49e116>\u001b[0m in \u001b[0;36mfit\u001b[0;34m(self, X, y)\u001b[0m\n\u001b[1;32m     32\u001b[0m             \u001b[0;32mif\u001b[0m \u001b[0mself\u001b[0m\u001b[0;34m.\u001b[0m\u001b[0mft\u001b[0m\u001b[0;34m[\u001b[0m\u001b[0md\u001b[0m\u001b[0;34m]\u001b[0m \u001b[0;34m==\u001b[0m \u001b[0;34m'r'\u001b[0m\u001b[0;34m:\u001b[0m\u001b[0;34m\u001b[0m\u001b[0;34m\u001b[0m\u001b[0m\n\u001b[1;32m     33\u001b[0m                 \u001b[0mself\u001b[0m\u001b[0;34m.\u001b[0m\u001b[0mclf\u001b[0m \u001b[0;34m=\u001b[0m \u001b[0mGaussianNB\u001b[0m\u001b[0;34m(\u001b[0m\u001b[0mvar_smoothing\u001b[0m\u001b[0;34m=\u001b[0m\u001b[0;36m1e-06\u001b[0m\u001b[0;34m)\u001b[0m\u001b[0;34m\u001b[0m\u001b[0;34m\u001b[0m\u001b[0m\n\u001b[0;32m---> 34\u001b[0;31m                 \u001b[0mself\u001b[0m\u001b[0;34m.\u001b[0m\u001b[0mclf\u001b[0m\u001b[0;34m.\u001b[0m\u001b[0mfit\u001b[0m\u001b[0;34m(\u001b[0m\u001b[0mX\u001b[0m\u001b[0;34m[\u001b[0m\u001b[0md\u001b[0m\u001b[0;34m]\u001b[0m\u001b[0;34m,\u001b[0m\u001b[0my\u001b[0m\u001b[0;34m)\u001b[0m\u001b[0;34m\u001b[0m\u001b[0;34m\u001b[0m\u001b[0m\n\u001b[0m\u001b[1;32m     35\u001b[0m                 \u001b[0mself\u001b[0m\u001b[0;34m.\u001b[0m\u001b[0mlog_probs\u001b[0m \u001b[0;34m=\u001b[0m \u001b[0mnp\u001b[0m\u001b[0;34m.\u001b[0m\u001b[0minsert\u001b[0m\u001b[0;34m(\u001b[0m\u001b[0mlog_probs\u001b[0m\u001b[0;34m,\u001b[0m \u001b[0mlen\u001b[0m\u001b[0;34m(\u001b[0m\u001b[0mlog_probs\u001b[0m\u001b[0;34m)\u001b[0m\u001b[0;34m,\u001b[0m \u001b[0mnp\u001b[0m\u001b[0;34m.\u001b[0m\u001b[0mlog\u001b[0m\u001b[0;34m(\u001b[0m\u001b[0mself\u001b[0m\u001b[0;34m.\u001b[0m\u001b[0mclf\u001b[0m\u001b[0;34m.\u001b[0m\u001b[0mclass_prior_\u001b[0m\u001b[0;34m)\u001b[0m\u001b[0;34m)\u001b[0m\u001b[0;34m\u001b[0m\u001b[0;34m\u001b[0m\u001b[0m\n\u001b[1;32m     36\u001b[0m             \u001b[0;32mif\u001b[0m \u001b[0mself\u001b[0m\u001b[0;34m.\u001b[0m\u001b[0mft\u001b[0m\u001b[0;34m[\u001b[0m\u001b[0md\u001b[0m\u001b[0;34m]\u001b[0m \u001b[0;34m==\u001b[0m \u001b[0;34m'b'\u001b[0m\u001b[0;34m:\u001b[0m\u001b[0;34m\u001b[0m\u001b[0;34m\u001b[0m\u001b[0m\n",
            "\u001b[0;32m/usr/local/lib/python3.7/dist-packages/sklearn/naive_bayes.py\u001b[0m in \u001b[0;36mfit\u001b[0;34m(self, X, y, sample_weight)\u001b[0m\n\u001b[1;32m    244\u001b[0m         \u001b[0my\u001b[0m \u001b[0;34m=\u001b[0m \u001b[0mself\u001b[0m\u001b[0;34m.\u001b[0m\u001b[0m_validate_data\u001b[0m\u001b[0;34m(\u001b[0m\u001b[0my\u001b[0m\u001b[0;34m=\u001b[0m\u001b[0my\u001b[0m\u001b[0;34m)\u001b[0m\u001b[0;34m\u001b[0m\u001b[0;34m\u001b[0m\u001b[0m\n\u001b[1;32m    245\u001b[0m         return self._partial_fit(\n\u001b[0;32m--> 246\u001b[0;31m             \u001b[0mX\u001b[0m\u001b[0;34m,\u001b[0m \u001b[0my\u001b[0m\u001b[0;34m,\u001b[0m \u001b[0mnp\u001b[0m\u001b[0;34m.\u001b[0m\u001b[0munique\u001b[0m\u001b[0;34m(\u001b[0m\u001b[0my\u001b[0m\u001b[0;34m)\u001b[0m\u001b[0;34m,\u001b[0m \u001b[0m_refit\u001b[0m\u001b[0;34m=\u001b[0m\u001b[0;32mTrue\u001b[0m\u001b[0;34m,\u001b[0m \u001b[0msample_weight\u001b[0m\u001b[0;34m=\u001b[0m\u001b[0msample_weight\u001b[0m\u001b[0;34m\u001b[0m\u001b[0;34m\u001b[0m\u001b[0m\n\u001b[0m\u001b[1;32m    247\u001b[0m         )\n\u001b[1;32m    248\u001b[0m \u001b[0;34m\u001b[0m\u001b[0m\n",
            "\u001b[0;32m/usr/local/lib/python3.7/dist-packages/sklearn/naive_bayes.py\u001b[0m in \u001b[0;36m_partial_fit\u001b[0;34m(self, X, y, classes, _refit, sample_weight)\u001b[0m\n\u001b[1;32m    400\u001b[0m \u001b[0;34m\u001b[0m\u001b[0m\n\u001b[1;32m    401\u001b[0m         \u001b[0mfirst_call\u001b[0m \u001b[0;34m=\u001b[0m \u001b[0m_check_partial_fit_first_call\u001b[0m\u001b[0;34m(\u001b[0m\u001b[0mself\u001b[0m\u001b[0;34m,\u001b[0m \u001b[0mclasses\u001b[0m\u001b[0;34m)\u001b[0m\u001b[0;34m\u001b[0m\u001b[0;34m\u001b[0m\u001b[0m\n\u001b[0;32m--> 402\u001b[0;31m         \u001b[0mX\u001b[0m\u001b[0;34m,\u001b[0m \u001b[0my\u001b[0m \u001b[0;34m=\u001b[0m \u001b[0mself\u001b[0m\u001b[0;34m.\u001b[0m\u001b[0m_validate_data\u001b[0m\u001b[0;34m(\u001b[0m\u001b[0mX\u001b[0m\u001b[0;34m,\u001b[0m \u001b[0my\u001b[0m\u001b[0;34m,\u001b[0m \u001b[0mreset\u001b[0m\u001b[0;34m=\u001b[0m\u001b[0mfirst_call\u001b[0m\u001b[0;34m)\u001b[0m\u001b[0;34m\u001b[0m\u001b[0;34m\u001b[0m\u001b[0m\n\u001b[0m\u001b[1;32m    403\u001b[0m         \u001b[0;32mif\u001b[0m \u001b[0msample_weight\u001b[0m \u001b[0;32mis\u001b[0m \u001b[0;32mnot\u001b[0m \u001b[0;32mNone\u001b[0m\u001b[0;34m:\u001b[0m\u001b[0;34m\u001b[0m\u001b[0;34m\u001b[0m\u001b[0m\n\u001b[1;32m    404\u001b[0m             \u001b[0msample_weight\u001b[0m \u001b[0;34m=\u001b[0m \u001b[0m_check_sample_weight\u001b[0m\u001b[0;34m(\u001b[0m\u001b[0msample_weight\u001b[0m\u001b[0;34m,\u001b[0m \u001b[0mX\u001b[0m\u001b[0;34m)\u001b[0m\u001b[0;34m\u001b[0m\u001b[0;34m\u001b[0m\u001b[0m\n",
            "\u001b[0;32m/usr/local/lib/python3.7/dist-packages/sklearn/base.py\u001b[0m in \u001b[0;36m_validate_data\u001b[0;34m(self, X, y, reset, validate_separately, **check_params)\u001b[0m\n\u001b[1;32m    574\u001b[0m                 \u001b[0my\u001b[0m \u001b[0;34m=\u001b[0m \u001b[0mcheck_array\u001b[0m\u001b[0;34m(\u001b[0m\u001b[0my\u001b[0m\u001b[0;34m,\u001b[0m \u001b[0;34m**\u001b[0m\u001b[0mcheck_y_params\u001b[0m\u001b[0;34m)\u001b[0m\u001b[0;34m\u001b[0m\u001b[0;34m\u001b[0m\u001b[0m\n\u001b[1;32m    575\u001b[0m             \u001b[0;32melse\u001b[0m\u001b[0;34m:\u001b[0m\u001b[0;34m\u001b[0m\u001b[0;34m\u001b[0m\u001b[0m\n\u001b[0;32m--> 576\u001b[0;31m                 \u001b[0mX\u001b[0m\u001b[0;34m,\u001b[0m \u001b[0my\u001b[0m \u001b[0;34m=\u001b[0m \u001b[0mcheck_X_y\u001b[0m\u001b[0;34m(\u001b[0m\u001b[0mX\u001b[0m\u001b[0;34m,\u001b[0m \u001b[0my\u001b[0m\u001b[0;34m,\u001b[0m \u001b[0;34m**\u001b[0m\u001b[0mcheck_params\u001b[0m\u001b[0;34m)\u001b[0m\u001b[0;34m\u001b[0m\u001b[0;34m\u001b[0m\u001b[0m\n\u001b[0m\u001b[1;32m    577\u001b[0m             \u001b[0mout\u001b[0m \u001b[0;34m=\u001b[0m \u001b[0mX\u001b[0m\u001b[0;34m,\u001b[0m \u001b[0my\u001b[0m\u001b[0;34m\u001b[0m\u001b[0;34m\u001b[0m\u001b[0m\n\u001b[1;32m    578\u001b[0m \u001b[0;34m\u001b[0m\u001b[0m\n",
            "\u001b[0;32m/usr/local/lib/python3.7/dist-packages/sklearn/utils/validation.py\u001b[0m in \u001b[0;36mcheck_X_y\u001b[0;34m(X, y, accept_sparse, accept_large_sparse, dtype, order, copy, force_all_finite, ensure_2d, allow_nd, multi_output, ensure_min_samples, ensure_min_features, y_numeric, estimator)\u001b[0m\n\u001b[1;32m    966\u001b[0m         \u001b[0mensure_min_samples\u001b[0m\u001b[0;34m=\u001b[0m\u001b[0mensure_min_samples\u001b[0m\u001b[0;34m,\u001b[0m\u001b[0;34m\u001b[0m\u001b[0;34m\u001b[0m\u001b[0m\n\u001b[1;32m    967\u001b[0m         \u001b[0mensure_min_features\u001b[0m\u001b[0;34m=\u001b[0m\u001b[0mensure_min_features\u001b[0m\u001b[0;34m,\u001b[0m\u001b[0;34m\u001b[0m\u001b[0;34m\u001b[0m\u001b[0m\n\u001b[0;32m--> 968\u001b[0;31m         \u001b[0mestimator\u001b[0m\u001b[0;34m=\u001b[0m\u001b[0mestimator\u001b[0m\u001b[0;34m,\u001b[0m\u001b[0;34m\u001b[0m\u001b[0;34m\u001b[0m\u001b[0m\n\u001b[0m\u001b[1;32m    969\u001b[0m     )\n\u001b[1;32m    970\u001b[0m \u001b[0;34m\u001b[0m\u001b[0m\n",
            "\u001b[0;32m/usr/local/lib/python3.7/dist-packages/sklearn/utils/validation.py\u001b[0m in \u001b[0;36mcheck_array\u001b[0;34m(array, accept_sparse, accept_large_sparse, dtype, order, copy, force_all_finite, ensure_2d, allow_nd, ensure_min_samples, ensure_min_features, estimator)\u001b[0m\n\u001b[1;32m    763\u001b[0m                     \u001b[0;34m\"Reshape your data either using array.reshape(-1, 1) if \"\u001b[0m\u001b[0;34m\u001b[0m\u001b[0;34m\u001b[0m\u001b[0m\n\u001b[1;32m    764\u001b[0m                     \u001b[0;34m\"your data has a single feature or array.reshape(1, -1) \"\u001b[0m\u001b[0;34m\u001b[0m\u001b[0;34m\u001b[0m\u001b[0m\n\u001b[0;32m--> 765\u001b[0;31m                     \u001b[0;34m\"if it contains a single sample.\"\u001b[0m\u001b[0;34m.\u001b[0m\u001b[0mformat\u001b[0m\u001b[0;34m(\u001b[0m\u001b[0marray\u001b[0m\u001b[0;34m)\u001b[0m\u001b[0;34m\u001b[0m\u001b[0;34m\u001b[0m\u001b[0m\n\u001b[0m\u001b[1;32m    766\u001b[0m                 )\n\u001b[1;32m    767\u001b[0m \u001b[0;34m\u001b[0m\u001b[0m\n",
            "\u001b[0;31mValueError\u001b[0m: Expected 2D array, got 1D array instead:\narray=[5.1 3.5 1.4 0.2].\nReshape your data either using array.reshape(-1, 1) if your data has a single feature or array.reshape(1, -1) if it contains a single sample."
          ]
        }
      ]
    },
    {
      "cell_type": "code",
      "metadata": {
        "id": "Na8cLlPsJJIQ",
        "colab": {
          "base_uri": "https://localhost:8080/"
        },
        "outputId": "04795392-90cc-408e-c12c-7398b6b1d8ec"
      },
      "source": [
        "# All features of this dataset are binary\n",
        "data = pd.read_csv('binary_test.csv', header=None)\n",
        "data = data.to_numpy()\n",
        "\n",
        "X = data[:,1:]\n",
        "y = data[:,0]\n",
        "\n",
        "N, D = X.shape\n",
        "Ntrain = int(0.8 * N)\n",
        "Xtrain = X[:Ntrain]\n",
        "ytrain = y[:Ntrain]\n",
        "Xtest = X[Ntrain:]\n",
        "ytest = y[Ntrain:]\n",
        "\n",
        "\n",
        "nbc = NBC(feature_types=['b'] * 16)\n",
        "nbc.fit(Xtrain, ytrain)\n",
        "yhat = nbc.predict(Xtest)\n",
        "test_accuracy = np.mean(yhat == ytest)\n",
        "\n",
        "print(\"Accuracy:\", test_accuracy) # should be larger than 85%\n",
        "print(yhat)"
      ],
      "execution_count": null,
      "outputs": [
        {
          "output_type": "stream",
          "name": "stdout",
          "text": [
            "Accuracy: 0.8723404255319149\n",
            "[1 0 1 1 0 1 1 0 0 1 1 1 0 1 1 1 1 1 0 1 1 0 1 0 0 1 1 1 0 1 1 1 0 1 0 1 0\n",
            " 0 0 1 0 0 0 0 1 1 0]\n"
          ]
        }
      ]
    },
    {
      "cell_type": "code",
      "metadata": {
        "id": "7-idOkwoJJIS",
        "colab": {
          "base_uri": "https://localhost:8080/"
        },
        "outputId": "8221a3cf-da4d-4083-bd02-7f1c7d2bd34d"
      },
      "source": [
        "# All features of this dataset are categorical (bonus task)\n",
        "\n",
        "data = pd.read_csv('categorical_test.csv', header=None)\n",
        "data = data.to_numpy()\n",
        "\n",
        "X = data[:,:-1]\n",
        "y = data[:,-1]\n",
        "\n",
        "N, D = X.shape\n",
        "Ntrain = int(0.8 * N)\n",
        "Xtrain = X[:Ntrain]\n",
        "ytrain = y[:Ntrain]\n",
        "Xtest = X[Ntrain:]\n",
        "ytest = y[Ntrain:]\n",
        "\n",
        "\n",
        "nbc = NBC(feature_types=['r', 'r', 'r', 'r', 'r', 'r', 'r', 'r', 'b'])\n",
        "nbc.fit(Xtrain, ytrain)\n",
        "yhat = nbc.predict(Xtest)\n",
        "test_accuracy = np.mean(yhat == ytest)\n",
        "\n",
        "print(\"Accuracy:\", test_accuracy) # should be larger than 65%\n",
        "print(yhat) "
      ],
      "execution_count": null,
      "outputs": [
        {
          "output_type": "stream",
          "name": "stdout",
          "text": [
            "Accuracy: 0.6896551724137931\n",
            "[0 1 0 1 1 0 0 1 0 1 0 0 1 0 1 0 0 0 0 1 0 0 1 0 0 1 1 0 1 0 1 0 0 0 0 1 0\n",
            " 1 0 0 0 0 0 0 1 0 0 0 0 0 0 0 1 0 0 0 0 0]\n"
          ]
        }
      ]
    },
    {
      "cell_type": "markdown",
      "metadata": {
        "id": "WXLKvTR_JJIS"
      },
      "source": [
        "## Logistic Regression"
      ]
    },
    {
      "cell_type": "markdown",
      "metadata": {
        "id": "GZIK664tJJIT"
      },
      "source": [
        "For logistic regression, you should use the implementation in scikit-learn. Add the following\n",
        "line to import the LR model."
      ]
    },
    {
      "cell_type": "code",
      "metadata": {
        "id": "DLPwX7U5JJIT"
      },
      "source": [
        "from sklearn.linear_model import LogisticRegression"
      ],
      "execution_count": null,
      "outputs": []
    },
    {
      "cell_type": "markdown",
      "metadata": {
        "id": "7nXfDolLJJIT"
      },
      "source": [
        "Check the scikit-learn documentation for the Logistic Regression model:\n",
        "- http://scikit-learn.org/stable/modules/linear_model.html#logistic-regression\n",
        "- http://scikit-learn.org/stable/modules/generated/sklearn.linear_model.LogisticRegression.html#sklearn.linear_model.LogisticRegression\n"
      ]
    },
    {
      "cell_type": "markdown",
      "metadata": {
        "id": "RHkx7cn2JJIU"
      },
      "source": [
        "## Comparing NBC and LR"
      ]
    },
    {
      "cell_type": "markdown",
      "metadata": {
        "id": "-CQzP1zXJJIU"
      },
      "source": [
        "### Experiments\n",
        "\n",
        "The experiment is to compare the classification error of the NBC and LR trained on increasingly larger training datasets. \n",
        "Since the datasets are so small, you should do this multiple times and\n",
        "average the classification error. One run should look as follows:\n",
        "- Shuffle the data, put 20% aside for testing.\n",
        "    \n",
        "    ```N, D = X.shape\n",
        "    Ntrain = int(0.8 * N)\n",
        "    shuffler = np.random.permutation(N)\n",
        "    Xtrain = X[shuffler[:Ntrain]]\n",
        "    ytrain = y[shuffler[:Ntrain]]\n",
        "    Xtest = X[shuffler[Ntrain:]]\n",
        "    ytest = y[shuffler[Ntrain:]]\n",
        "    \n",
        "    ```  \n",
        "\n",
        "\n",
        "- Train the classifiers with increasingly more data. For example, we can train classifiers with 10%, 20%, ..., 100% of the training data. For each case store the classification errors on the test set of the classifiers.\n",
        "\n",
        "You may want to repeat this with at least 200 random permutations (possibly as large as 1000)\n",
        "to average out the test error across the runs. In the end, you will get average test errors as a function of the size of the training data. \n",
        "We have written for you the function for making the plots for the experiments. "
      ]
    },
    {
      "cell_type": "code",
      "metadata": {
        "id": "mJgo2qqNJJIV"
      },
      "source": [
        "# inputs:\n",
        "#   nbc: Naive Bayes Classifier\n",
        "#   lr: Logistic Regression Classifier\n",
        "#   X, y: data\n",
        "#   num_runs: we need repeat num_runs times and store average results\n",
        "#   num_splits: we want to compare the two models on increasingly larger training sets.\n",
        "#               num_splits defines the number of increasing steps. \n",
        "# outputs:\n",
        "#   the arrays of the test errors across the runs of the two classifiers \n",
        "def compareNBCvsLR(nbc, lr, X, y, num_runs=200, num_splits=10):\n",
        "    # The code below is just for compilation. \n",
        "    # You need to replace it by your own code.\n",
        "    ###################################################\n",
        "    ##### YOUR CODE STARTS HERE #######################\n",
        "    ###################################################\n",
        "    tst_errs_nbc = []\n",
        "    tst_errs_lr = []\n",
        "    \n",
        "    return tst_errs_nbc, tst_errs_lr\n",
        "    ###################################################\n",
        "    ##### YOUR CODE ENDS HERE #########################\n",
        "    ###################################################"
      ],
      "execution_count": null,
      "outputs": []
    },
    {
      "cell_type": "code",
      "metadata": {
        "id": "zmD0CBDpJJIV"
      },
      "source": [
        "def makePlot(nbc_perf, lr_perf, title=None, num_splits=10):\n",
        "    fig = plt.figure()\n",
        "    ax = fig.add_subplot(1, 1, 1)\n",
        "\n",
        "    ax.tick_params(axis='both', labelsize=20)\n",
        "\n",
        "    ax.set_xlabel('Percent of training data used', fontsize=20)\n",
        "    ax.set_ylabel('Classification Error', fontsize=20)\n",
        "    if title is not None: ax.set_title(title, fontsize=25)\n",
        "\n",
        "    xaxis_scale = [(i + 1) * (100/num_splits) for i in range(num_splits)]\n",
        "    plt.plot(xaxis_scale, nbc_perf, label='Naive Bayes')\n",
        "    plt.plot(xaxis_scale, lr_perf, label='Logistic Regression', linestyle='dashed')\n",
        "    \n",
        "    ax.legend(loc='upper right', fontsize=20)"
      ],
      "execution_count": null,
      "outputs": []
    },
    {
      "cell_type": "markdown",
      "metadata": {
        "id": "DBE85b4VJJIW"
      },
      "source": [
        "### Datasets"
      ]
    },
    {
      "cell_type": "markdown",
      "metadata": {
        "id": "NAhA_1K9JJIW"
      },
      "source": [
        "Tasks: For each dataset,\n",
        "1. prepare the data for the two classifiers, e.g., handle missing values, handle text/categorical data, etc.\n",
        "2. compare the two classifiers on the dataset and generate the plots\n",
        "3. write a short report of how you prepare the data and your observations of the comparison "
      ]
    },
    {
      "cell_type": "markdown",
      "metadata": {
        "id": "xjc1EhfIJJIW"
      },
      "source": [
        "**Dataset 1: Iris Dataset**\n",
        "\n",
        "https://scikit-learn.org/stable/auto_examples/datasets/plot_iris_dataset.html"
      ]
    },
    {
      "cell_type": "code",
      "metadata": {
        "id": "FZTQx-l4JJIX"
      },
      "source": [
        "# TODO: insert your code for experiments\n",
        "###################################################\n",
        "##### YOUR CODE STARTS HERE #######################\n",
        "###################################################\n",
        "from sklearn.datasets import load_iris\n",
        "iris = load_iris()\n",
        "\n",
        "\n",
        "###################################################\n",
        "##### YOUR CODE ENDS HERE #########################\n",
        "###################################################"
      ],
      "execution_count": null,
      "outputs": []
    },
    {
      "cell_type": "markdown",
      "metadata": {
        "id": "Z2SZhxh2JJIX"
      },
      "source": [
        "**Dataset 2: Voting Dataset**\n",
        "\n",
        "https://archive.ics.uci.edu/ml/datasets/congressional+voting+records\n",
        "\n",
        "The logistic regression line meets the naive bayes line early in the plot. To see it clearer, you should use only 100 data points from the dataset for this experiment."
      ]
    },
    {
      "cell_type": "code",
      "metadata": {
        "id": "2pzihR52JJIY",
        "outputId": "b91db6f0-3ba6-4a9b-9262-80e788485c5a"
      },
      "source": [
        "# load the dataset\n",
        "# TODO: insert your code for experiments\n",
        "###################################################\n",
        "##### YOUR CODE STARTS HERE #######################\n",
        "###################################################\n",
        "voting = pd.read_csv('./datasets/voting.csv')\n",
        "\n",
        "voting.info()\n",
        "\n",
        "###################################################\n",
        "##### YOUR CODE ENDS HERE #########################\n",
        "###################################################"
      ],
      "execution_count": null,
      "outputs": [
        {
          "name": "stdout",
          "output_type": "stream",
          "text": [
            "<class 'pandas.core.frame.DataFrame'>\n",
            "RangeIndex: 435 entries, 0 to 434\n",
            "Data columns (total 17 columns):\n",
            " #   Column                                  Non-Null Count  Dtype \n",
            "---  ------                                  --------------  ----- \n",
            " 0   label                                   435 non-null    object\n",
            " 1   handicapped-infants                     423 non-null    object\n",
            " 2   water-project-cost-sharing              387 non-null    object\n",
            " 3   adoption-of-the-budget-resolution       424 non-null    object\n",
            " 4   physician-fee-freeze                    424 non-null    object\n",
            " 5   el-salvador-aid                         420 non-null    object\n",
            " 6   religious-groups-in-schools             424 non-null    object\n",
            " 7   anti-satellite-test-ban                 421 non-null    object\n",
            " 8   aid-to-nicaraguan-contras               420 non-null    object\n",
            " 9   mx-missile                              413 non-null    object\n",
            " 10  immigration                             428 non-null    object\n",
            " 11  synfuels-corporation-cutback            414 non-null    object\n",
            " 12  education-spending                      404 non-null    object\n",
            " 13  superfund-right-to-sue                  410 non-null    object\n",
            " 14  crime                                   418 non-null    object\n",
            " 15  duty-free-exports                       407 non-null    object\n",
            " 16  export-administration-act-south-africa  331 non-null    object\n",
            "dtypes: object(17)\n",
            "memory usage: 57.9+ KB\n"
          ]
        }
      ]
    },
    {
      "cell_type": "code",
      "metadata": {
        "id": "3JXBqyyqJJIY"
      },
      "source": [
        ""
      ],
      "execution_count": null,
      "outputs": []
    }
  ]
}